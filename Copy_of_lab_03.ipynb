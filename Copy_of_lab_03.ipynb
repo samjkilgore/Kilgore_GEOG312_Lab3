{
  "cells": [
    {
      "cell_type": "markdown",
      "metadata": {
        "id": "X4ofjAz1N7bN"
      },
      "source": [
        "[![image](https://colab.research.google.com/assets/colab-badge.svg)](https://colab.research.google.com/github/giswqs/geog-312/blob/master/labs/lab_03.ipynb)\n",
        "[![image](https://binder.pangeo.io/badge_logo.svg)](https://gishub.org/geog312-pangeo)"
      ]
    },
    {
      "cell_type": "markdown",
      "metadata": {
        "id": "T9YybJsiN7bP"
      },
      "source": [
        "**Sam Kilgore**"
      ]
    },
    {
      "cell_type": "code",
      "execution_count": null,
      "metadata": {
        "id": "tFz80c52N7bQ"
      },
      "outputs": [],
      "source": [
        "from datetime import datetime\n",
        "\n",
        "now = datetime.now()\n",
        "print(f\"Submitted time: {now}\")"
      ]
    },
    {
      "cell_type": "markdown",
      "metadata": {
        "id": "GyYjqSpiN7bR"
      },
      "source": [
        "## Question 1\n",
        "**Pizzas:** Think of at least three kinds of your favorite pizza. Store these pizza names in a list, and then use a for loop to print the name of each pizza.\n",
        "\n",
        "Modify your for loop to print a sentence using the name of the pizza instead of printing just the name of the pizza. For each pizza you should have one line of output containing a simple statement like *I like pepperoni pizza.*"
      ]
    },
    {
      "cell_type": "code",
      "execution_count": null,
      "metadata": {
        "id": "nhkae2p9N7bR",
        "colab": {
          "base_uri": "https://localhost:8080/"
        },
        "outputId": "7ff6deda-abfe-4d44-8b63-eb0d70637d6e"
      },
      "outputs": [
        {
          "output_type": "stream",
          "name": "stdout",
          "text": [
            "Hawaiian\n",
            "mushroom\n",
            "sausage\n",
            "One of my favorite kinds of pizza is Hawaiian.\n",
            "One of my favorite kinds of pizza is Mushroom.\n",
            "One of my favorite kinds of pizza is Sausage.\n"
          ]
        }
      ],
      "source": [
        "pizzas = [\"Hawaiian\", \"mushroom\", \"sausage\"]\n",
        "for pizza in pizzas:\n",
        "  print(pizza)\n",
        "for pizza in pizzas:\n",
        "  print(f\"One of my favorite kinds of pizza is {pizza.title()}.\")"
      ]
    },
    {
      "cell_type": "markdown",
      "metadata": {
        "id": "CoHD1FguN7bR"
      },
      "source": [
        "Add a line at the end of your program, outside the for loop, that states how much you like pizza. The output should consist of three or more lines about the kinds of pizza you like and then an additional sentence, such as *I really love pizza!*"
      ]
    },
    {
      "cell_type": "code",
      "execution_count": null,
      "metadata": {
        "id": "4p_RkkMgN7bR",
        "colab": {
          "base_uri": "https://localhost:8080/"
        },
        "outputId": "871971b0-f7e5-4391-a2e1-f2f5f5a3bdaa"
      },
      "outputs": [
        {
          "output_type": "stream",
          "name": "stdout",
          "text": [
            "One of my favorite kinds of pizza is Hawaiian.\n",
            "One of my favorite kinds of pizza is Mushroom.\n",
            "One of my favorite kinds of pizza is Sausage.\n",
            "Pizza is good.\n"
          ]
        }
      ],
      "source": [
        "pizzas = [\"Hawaiian\", \"mushroom\", \"sausage\"]\n",
        "for pizza in pizzas:\n",
        "  print(f\"One of my favorite kinds of pizza is {pizza.title()}.\")\n",
        "print(\"Pizza is good.\")"
      ]
    },
    {
      "cell_type": "markdown",
      "metadata": {
        "id": "IdrTOXl5N7bR"
      },
      "source": [
        "## Question 2\n",
        "**Animals:** Think of at least three different animals that have a common characteristic. Store the names of these animals in a list, and then use a for loop to print out the name of each animal.\n",
        "\n",
        "Modify your program to print a statement about each animal, such as *A dog would make a great pet.*"
      ]
    },
    {
      "cell_type": "code",
      "execution_count": null,
      "metadata": {
        "id": "z-RSgqUGN7bS",
        "colab": {
          "base_uri": "https://localhost:8080/"
        },
        "outputId": "26901ed1-b337-465a-ed09-3d1b8844536c"
      },
      "outputs": [
        {
          "output_type": "stream",
          "name": "stdout",
          "text": [
            "bat\n",
            "hawk\n",
            "flying squirrel\n",
            "sugar glider\n",
            "A bat has the ability to glide through the air.\n",
            "A hawk has the ability to glide through the air.\n",
            "A flying squirrel has the ability to glide through the air.\n",
            "A sugar glider has the ability to glide through the air.\n"
          ]
        }
      ],
      "source": [
        "animals = [\"bat\", \"hawk\", \"flying squirrel\", \"sugar glider\"]\n",
        "for animal in animals:\n",
        "  print(animal)\n",
        "\n",
        "for animal in animals:\n",
        "  print(f\"A {animal} has the ability to glide through the air.\")"
      ]
    },
    {
      "cell_type": "markdown",
      "metadata": {
        "id": "cnS7VazyN7bS"
      },
      "source": [
        "Add a line at the end of your program stating what these animals have in common. You could print a sentence such as *Any of these animals would make a great pet!*"
      ]
    },
    {
      "cell_type": "code",
      "execution_count": null,
      "metadata": {
        "id": "7uaJBLcXN7bS",
        "colab": {
          "base_uri": "https://localhost:8080/"
        },
        "outputId": "56fde8e3-e19e-407a-d123-d3a2b709a922"
      },
      "outputs": [
        {
          "output_type": "stream",
          "name": "stdout",
          "text": [
            "A bat has the ability to glide through the air.\n",
            "A hawk has the ability to glide through the air.\n",
            "A flying squirrel has the ability to glide through the air.\n",
            "A sugar glider has the ability to glide through the air.\n",
            "All these animals share in their ability to glide.\n"
          ]
        }
      ],
      "source": [
        "animals = [\"bat\", \"hawk\", \"flying squirrel\", \"sugar glider\"]\n",
        "\n",
        "for animal in animals:\n",
        "  print(f\"A {animal} has the ability to glide through the air.\")\n",
        "print(\"All these animals share in their ability to glide.\")"
      ]
    },
    {
      "cell_type": "markdown",
      "metadata": {
        "id": "LSn89twdN7bS"
      },
      "source": [
        "## Question 3\n",
        "**Counting to Twenty:** Use a for loop to print the numbers from 1 to 20, inclusive."
      ]
    },
    {
      "cell_type": "code",
      "execution_count": null,
      "metadata": {
        "id": "xl-0YRfXN7bT",
        "colab": {
          "base_uri": "https://localhost:8080/"
        },
        "outputId": "c5061e1a-d175-4589-811f-80863cbbd41c"
      },
      "outputs": [
        {
          "output_type": "stream",
          "name": "stdout",
          "text": [
            "1\n",
            "2\n",
            "3\n",
            "4\n",
            "5\n",
            "6\n",
            "7\n",
            "8\n",
            "9\n",
            "10\n",
            "11\n",
            "12\n",
            "13\n",
            "14\n",
            "15\n",
            "16\n",
            "17\n",
            "18\n",
            "19\n",
            "20\n"
          ]
        }
      ],
      "source": [
        "for i in range(1,21):\n",
        "  print(i)"
      ]
    },
    {
      "cell_type": "markdown",
      "metadata": {
        "id": "vwV48OfCN7bT"
      },
      "source": [
        "## Question 4\n",
        "**One Hundred:** Make a list of the numbers from one to one hundred, and then use a for loop to print the numbers."
      ]
    },
    {
      "cell_type": "code",
      "execution_count": null,
      "metadata": {
        "id": "_ibZd14vN7bT",
        "colab": {
          "base_uri": "https://localhost:8080/"
        },
        "outputId": "93f07120-8450-4023-85ed-61221fcd852d"
      },
      "outputs": [
        {
          "output_type": "stream",
          "name": "stdout",
          "text": [
            "1\n",
            "2\n",
            "3\n",
            "4\n",
            "5\n",
            "6\n",
            "7\n",
            "8\n",
            "9\n",
            "10\n",
            "11\n",
            "12\n",
            "13\n",
            "14\n",
            "15\n",
            "16\n",
            "17\n",
            "18\n",
            "19\n",
            "20\n",
            "21\n",
            "22\n",
            "23\n",
            "24\n",
            "25\n",
            "26\n",
            "27\n",
            "28\n",
            "29\n",
            "30\n",
            "31\n",
            "32\n",
            "33\n",
            "34\n",
            "35\n",
            "36\n",
            "37\n",
            "38\n",
            "39\n",
            "40\n",
            "41\n",
            "42\n",
            "43\n",
            "44\n",
            "45\n",
            "46\n",
            "47\n",
            "48\n",
            "49\n",
            "50\n",
            "51\n",
            "52\n",
            "53\n",
            "54\n",
            "55\n",
            "56\n",
            "57\n",
            "58\n",
            "59\n",
            "60\n",
            "61\n",
            "62\n",
            "63\n",
            "64\n",
            "65\n",
            "66\n",
            "67\n",
            "68\n",
            "69\n",
            "70\n",
            "71\n",
            "72\n",
            "73\n",
            "74\n",
            "75\n",
            "76\n",
            "77\n",
            "78\n",
            "79\n",
            "80\n",
            "81\n",
            "82\n",
            "83\n",
            "84\n",
            "85\n",
            "86\n",
            "87\n",
            "88\n",
            "89\n",
            "90\n",
            "91\n",
            "92\n",
            "93\n",
            "94\n",
            "95\n",
            "96\n",
            "97\n",
            "98\n",
            "99\n",
            "100\n"
          ]
        }
      ],
      "source": [
        "numbers = range(1, 101)\n",
        "for number in numbers:\n",
        "  print(number)"
      ]
    },
    {
      "cell_type": "markdown",
      "metadata": {
        "id": "FY7umQjhN7bT"
      },
      "source": [
        "## Question 5\n",
        "**Summing a Hundred:** Make a list of the numbers from one to one million, and then use `min()` and `max()` to make sure your list actually starts at one and ends at one hundred. Also, use the sum() function to see how quickly Python can add a hundred numbers."
      ]
    },
    {
      "cell_type": "code",
      "execution_count": null,
      "metadata": {
        "id": "HZalR9CwN7bT",
        "colab": {
          "base_uri": "https://localhost:8080/"
        },
        "outputId": "45f8a801-299a-44f8-944d-523cefcae248"
      },
      "outputs": [
        {
          "output_type": "stream",
          "name": "stdout",
          "text": [
            "1\n",
            "100\n",
            "5050\n"
          ]
        }
      ],
      "source": [
        "numbers = range(1,101)\n",
        "print(min(numbers))\n",
        "print(max(numbers))\n",
        "print(sum(numbers))"
      ]
    },
    {
      "cell_type": "markdown",
      "metadata": {
        "id": "kNpEj6--N7bT"
      },
      "source": [
        "## Question 6\n",
        "**Odd Numbers:** Use the third argument of the `range()` function to make a list of the odd numbers from 1 to 20. Use a `for` loop to print each number."
      ]
    },
    {
      "cell_type": "code",
      "execution_count": null,
      "metadata": {
        "id": "4WZS4nIWN7bT",
        "colab": {
          "base_uri": "https://localhost:8080/"
        },
        "outputId": "3ef066fc-afef-49e4-90a8-1c2a5ca28380"
      },
      "outputs": [
        {
          "output_type": "stream",
          "name": "stdout",
          "text": [
            "1\n",
            "3\n",
            "5\n",
            "7\n",
            "9\n",
            "11\n",
            "13\n",
            "15\n",
            "17\n",
            "19\n"
          ]
        }
      ],
      "source": [
        "odds = range(1, 21, 2)\n",
        "for i in odds:\n",
        "  print(i)"
      ]
    },
    {
      "cell_type": "markdown",
      "metadata": {
        "id": "R0cqAckrN7bT"
      },
      "source": [
        "## Question 7\n",
        "**Threes:** Make a list of the multiples of 3 from 3 to 30. Use a `for` loop to print the numbers in your list."
      ]
    },
    {
      "cell_type": "code",
      "execution_count": null,
      "metadata": {
        "id": "j9tjLceKN7bT",
        "colab": {
          "base_uri": "https://localhost:8080/"
        },
        "outputId": "504e2524-ae52-4d08-92b9-ba7ca3f3678d"
      },
      "outputs": [
        {
          "output_type": "stream",
          "name": "stdout",
          "text": [
            "3\n",
            "6\n",
            "9\n",
            "12\n",
            "15\n",
            "18\n",
            "21\n",
            "24\n",
            "27\n",
            "30\n"
          ]
        }
      ],
      "source": [
        "numbers = range(3, 31, 3)\n",
        "for number in numbers:\n",
        "  print(number)"
      ]
    },
    {
      "cell_type": "markdown",
      "metadata": {
        "id": "TUMeczvXN7bT"
      },
      "source": [
        "## Question 8\n",
        "**Cubes:** A number raised to the third power is called a cube. For example, the cube of 2 is written as 2 ** 3 in Python. Make a list of the first 10 cubes (that is, the cube of each integer from 1 through 10), and use a for loop to print out the value of each cube."
      ]
    },
    {
      "cell_type": "code",
      "execution_count": null,
      "metadata": {
        "id": "JjjxJUJwN7bU",
        "colab": {
          "base_uri": "https://localhost:8080/"
        },
        "outputId": "e1359a1c-3b2f-47aa-8128-194df4f98d36"
      },
      "outputs": [
        {
          "output_type": "stream",
          "name": "stdout",
          "text": [
            "1\n",
            "8\n",
            "27\n",
            "64\n",
            "125\n",
            "216\n",
            "343\n",
            "512\n",
            "729\n",
            "1000\n"
          ]
        }
      ],
      "source": [
        "cubes = []\n",
        "for i in range(1,11):\n",
        "  cubes.append(i**3)\n",
        "for cube in cubes:\n",
        "  print(cube)"
      ]
    },
    {
      "cell_type": "markdown",
      "metadata": {
        "id": "weQ2EaWAN7bU"
      },
      "source": [
        "## Question 9\n",
        "**Cube Comprehension:** Use a list comprehension to generate a list of the first 10 cubes."
      ]
    },
    {
      "cell_type": "code",
      "execution_count": null,
      "metadata": {
        "id": "76MNYl8fN7bU",
        "colab": {
          "base_uri": "https://localhost:8080/"
        },
        "outputId": "d8273aa7-7f90-4a28-b280-9d5afe9d8e1c"
      },
      "outputs": [
        {
          "output_type": "stream",
          "name": "stdout",
          "text": [
            "1\n",
            "8\n",
            "27\n",
            "64\n",
            "125\n",
            "216\n",
            "343\n",
            "512\n",
            "729\n",
            "1000\n"
          ]
        }
      ],
      "source": [
        "cubes = [value**3 for value in range(1,11)]\n",
        "for cube in cubes:\n",
        "  print(cube)"
      ]
    },
    {
      "cell_type": "markdown",
      "metadata": {
        "id": "9BQtbvAUN7bU"
      },
      "source": [
        "## Question 10\n",
        "**Slices:** Using one of the programs you wrote in this lab, add several lines to the end of the program that do the following:\n",
        "\n",
        "Print the message *The first three items in the list are:*. Then use a slice to print the first three items from that program’s list."
      ]
    },
    {
      "cell_type": "code",
      "execution_count": null,
      "metadata": {
        "id": "noe--KUtN7bU",
        "colab": {
          "base_uri": "https://localhost:8080/"
        },
        "outputId": "d4f70246-d099-4dd6-e07d-e2ad8ed18f21"
      },
      "outputs": [
        {
          "output_type": "stream",
          "name": "stdout",
          "text": [
            "The first three items in the list are: [1, 8, 27].\n"
          ]
        }
      ],
      "source": [
        "cubes = [value**3 for value in range(1,11)]\n",
        "print(f\"The first three items in the list are: {cubes[0:3]}.\")"
      ]
    },
    {
      "cell_type": "markdown",
      "metadata": {
        "id": "4MnFzQ4wN7bU"
      },
      "source": [
        "Print the message *Three items from the middle of the list are:*. Use a slice to print three items from the middle of the list."
      ]
    },
    {
      "cell_type": "code",
      "execution_count": 5,
      "metadata": {
        "id": "P0a0D0LiN7bU",
        "colab": {
          "base_uri": "https://localhost:8080/"
        },
        "outputId": "97e83b60-1d57-4417-bea7-2c720970bdfe"
      },
      "outputs": [
        {
          "output_type": "stream",
          "name": "stdout",
          "text": [
            "Three items from the middle of the list are: [27, 64, 125].\n"
          ]
        }
      ],
      "source": [
        "cubes = []\n",
        "for i in range(1,11):\n",
        "  cubes.append(i**3)\n",
        "\n",
        "print(f\"Three items from the middle of the list are: {cubes[2:5]}.\")"
      ]
    },
    {
      "cell_type": "markdown",
      "metadata": {
        "id": "RXBDSe8rN7bU"
      },
      "source": [
        "Print the message *The last three items in the list are:*. Use a slice to print the last three items in the list."
      ]
    },
    {
      "cell_type": "code",
      "execution_count": 6,
      "metadata": {
        "id": "Hu558bNaN7bU",
        "colab": {
          "base_uri": "https://localhost:8080/"
        },
        "outputId": "dbb1f8ca-21ed-45bd-f0e4-8e66b6039262"
      },
      "outputs": [
        {
          "output_type": "stream",
          "name": "stdout",
          "text": [
            "The last three items in the list are [512, 729, 1000]\n"
          ]
        }
      ],
      "source": [
        "print(f\"The last three items in the list are {cubes[-3:]}\")"
      ]
    },
    {
      "cell_type": "markdown",
      "metadata": {
        "id": "ZBGs8BFNN7bU"
      },
      "source": [
        "## Question 11\n",
        "**My Pizzas, Your Pizzas:** Start with your program from Question 1. Make a copy of the list of pizzas, and call it friend_pizzas. Then, do the following:\n",
        "\n",
        "Add a new pizza to the original list."
      ]
    },
    {
      "cell_type": "code",
      "execution_count": 12,
      "metadata": {
        "id": "xzMwSex5N7bU"
      },
      "outputs": [],
      "source": [
        "pizzas = [\"Hawaiian\", \"mushroom\", \"sausage\"]\n",
        "friend_pizzas = pizzas"
      ]
    },
    {
      "cell_type": "markdown",
      "metadata": {
        "id": "4jBA4_3hN7bU"
      },
      "source": [
        "Add a different pizza to the list `friend_pizzas`."
      ]
    },
    {
      "cell_type": "code",
      "execution_count": 15,
      "metadata": {
        "id": "6mT7kHW4N7bV"
      },
      "outputs": [],
      "source": [
        "friend_pizzas.append(\"supreme\")"
      ]
    },
    {
      "cell_type": "markdown",
      "metadata": {
        "id": "AaWXVxUCN7bV"
      },
      "source": [
        "Prove that you have two separate lists. Print the message *My favorite pizzas are:*, and then use a for loop to print the first list. Print the message *My friend’s favorite pizzas are:*, and then use a for loop to print the second list. Make sure each new pizza is stored in the appropriate list."
      ]
    },
    {
      "cell_type": "code",
      "execution_count": 16,
      "metadata": {
        "id": "n6TiiP_9N7bV",
        "colab": {
          "base_uri": "https://localhost:8080/"
        },
        "outputId": "51a1efa5-91da-461f-c19c-617507ad63b4"
      },
      "outputs": [
        {
          "output_type": "stream",
          "name": "stdout",
          "text": [
            "My favorite pizzas are: ['Hawaiian', 'mushroom', 'sausage', 'supreme'].\n",
            "Hawaiian\n",
            "mushroom\n",
            "sausage\n",
            "supreme\n"
          ]
        }
      ],
      "source": [
        "print(f\"My favorite pizzas are: {pizzas}.\")\n",
        "for friend_pizza in friend_pizzas:\n",
        "  print(friend_pizza)"
      ]
    },
    {
      "cell_type": "markdown",
      "metadata": {
        "id": "PEWILS0ON7bV"
      },
      "source": [
        "## Question 12\n",
        "**Buffet:** A buffet-style restaurant offers only five basic foods. Think of five simple foods, and store them in a tuple.\n",
        "\n",
        "Use a for loop to print each food the restaurant offers."
      ]
    },
    {
      "cell_type": "code",
      "execution_count": 17,
      "metadata": {
        "id": "Je2Or0DqN7bV",
        "colab": {
          "base_uri": "https://localhost:8080/"
        },
        "outputId": "d5d5daf9-f87f-4a60-ba8b-a2a532bc9181"
      },
      "outputs": [
        {
          "output_type": "stream",
          "name": "stdout",
          "text": [
            "apple\n",
            "beans\n",
            "rice\n",
            "corn\n",
            "asparagus\n"
          ]
        }
      ],
      "source": [
        "foods = (\"apple\", \"beans\", \"rice\", \"corn\", \"asparagus\")\n",
        "for food in foods:\n",
        "  print(food)"
      ]
    },
    {
      "cell_type": "markdown",
      "metadata": {
        "id": "kXdI8sd2N7bY"
      },
      "source": [
        "Try to modify one of the items, and make sure that Python rejects the change."
      ]
    },
    {
      "cell_type": "code",
      "execution_count": 20,
      "metadata": {
        "id": "3f_rxFq2N7bZ"
      },
      "outputs": [],
      "source": [
        "foods[0] = \"bread\""
      ]
    },
    {
      "cell_type": "markdown",
      "metadata": {
        "id": "mZhcVyOeN7bZ"
      },
      "source": [
        "The restaurant changes its menu, replacing two of the items with different foods. Add a line that rewrites the tuple, and then use a for loop to print each of the items on the revised menu."
      ]
    },
    {
      "cell_type": "code",
      "execution_count": 23,
      "metadata": {
        "id": "-Tq3AKKoN7bZ",
        "colab": {
          "base_uri": "https://localhost:8080/"
        },
        "outputId": "151796c7-b8ca-4adc-802a-e9ce3a354167"
      },
      "outputs": [
        {
          "output_type": "stream",
          "name": "stdout",
          "text": [
            "apple\n",
            "beans\n",
            "rice\n",
            "butter\n",
            "chocolate\n"
          ]
        }
      ],
      "source": [
        "foods = (\"apple\", \"beans\", \"rice\", \"butter\", \"chocolate\")\n",
        "for food in foods:\n",
        "  print(food)"
      ]
    }
  ],
  "metadata": {
    "kernelspec": {
      "display_name": "Python 3 (ipykernel)",
      "language": "python",
      "name": "python3"
    },
    "language_info": {
      "codemirror_mode": {
        "name": "ipython",
        "version": 3
      },
      "file_extension": ".py",
      "mimetype": "text/x-python",
      "name": "python",
      "nbconvert_exporter": "python",
      "pygments_lexer": "ipython3",
      "version": "3.8.10"
    },
    "colab": {
      "provenance": []
    }
  },
  "nbformat": 4,
  "nbformat_minor": 0
}